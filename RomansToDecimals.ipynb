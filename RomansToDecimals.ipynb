{
  "nbformat": 4,
  "nbformat_minor": 0,
  "metadata": {
    "colab": {
      "provenance": []
    },
    "kernelspec": {
      "name": "python3",
      "display_name": "Python 3"
    },
    "language_info": {
      "name": "python"
    }
  },
  "cells": [
    {
      "cell_type": "code",
      "execution_count": 1,
      "metadata": {
        "colab": {
          "base_uri": "https://localhost:8080/"
        },
        "id": "m5OD3oVJ51pN",
        "outputId": "b74d0bc5-8843-4340-895f-4428f9161db6"
      },
      "outputs": [
        {
          "output_type": "stream",
          "name": "stdout",
          "text": [
            "The integer value of MCMXCIV is 1994\n"
          ]
        }
      ],
      "source": [
        "def roman_to_integer(roman):\n",
        "    roman_numerals = {\n",
        "        'I': 1,\n",
        "        'V': 5,\n",
        "        'X': 10,\n",
        "        'L': 50,\n",
        "        'C': 100,\n",
        "        'D': 500,\n",
        "        'M': 1000\n",
        "    }\n",
        "\n",
        "    total = 0\n",
        "    prev_value = 0\n",
        "\n",
        "    for numeral in reversed(roman):\n",
        "        value = roman_numerals[numeral]\n",
        "        if value < prev_value:\n",
        "            total -= value\n",
        "        else:\n",
        "            total += value\n",
        "        prev_value = value\n",
        "\n",
        "    return total\n",
        "\n",
        "# Example usage:\n",
        "roman_numeral = \"MCMXCIV\"  # This represents 1994\n",
        "integer_value = roman_to_integer(roman_numeral)\n",
        "print(f\"The integer value of {roman_numeral} is {integer_value}\")\n"
      ]
    },
    {
      "cell_type": "code",
      "source": [
        "import unittest\n",
        "\n",
        "def roman_to_integer(roman):\n",
        "    # Your conversion function (from the previous answer)\n",
        "\n",
        "class TestRomanToInteger(unittest.TestCase):\n",
        "\n",
        "    def test_basic_numerals(self):\n",
        "        self.assertEqual(roman_to_integer(\"I\"), 1)\n",
        "        self.assertEqual(roman_to_integer(\"IV\"), 4)\n",
        "        self.assertEqual(roman_to_integer(\"V\"), 5)\n",
        "        self.assertEqual(roman_to_integer(\"IX\"), 9)\n",
        "        self.assertEqual(roman_to_integer(\"X\"), 10)\n",
        "\n",
        "    def test_complex_numerals(self):\n",
        "        self.assertEqual(roman_to_integer(\"MCMXCIV\"), 1994)\n",
        "        self.assertEqual(roman_to_integer(\"XLII\"), 42)\n",
        "        self.assertEqual(roman_to_integer(\"CCXXXIV\"), 234)\n",
        "        # Add more test cases as needed\n",
        "\n",
        "if __name__ == '__main__':\n",
        "    unittest.main()\n"
      ],
      "metadata": {
        "colab": {
          "base_uri": "https://localhost:8080/",
          "height": 141
        },
        "id": "Ont6rPrC7M2F",
        "outputId": "bfd5d89e-3ec7-4cad-909a-a78a33b0fbaa"
      },
      "execution_count": 2,
      "outputs": [
        {
          "output_type": "error",
          "ename": "IndentationError",
          "evalue": "ignored",
          "traceback": [
            "\u001b[0;36m  File \u001b[0;32m\"<ipython-input-2-07203d1efeb4>\"\u001b[0;36m, line \u001b[0;32m6\u001b[0m\n\u001b[0;31m    class TestRomanToInteger(unittest.TestCase):\u001b[0m\n\u001b[0m    ^\u001b[0m\n\u001b[0;31mIndentationError\u001b[0m\u001b[0;31m:\u001b[0m expected an indented block after function definition on line 3\n"
          ]
        }
      ]
    }
  ]
}